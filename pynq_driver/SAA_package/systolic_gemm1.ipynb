{
 "cells": [
  {
   "cell_type": "markdown",
   "metadata": {},
   "source": [
    "# SAA GEMM测试\n",
    "## 1. 加载Overlay"
   ]
  },
  {
   "cell_type": "code",
   "execution_count": 1,
   "metadata": {},
   "outputs": [
    {
     "data": {
      "application/javascript": "\nrequire(['notebook/js/codecell'], function(codecell) {\n  codecell.CodeCell.options_default.highlight_modes[\n      'magic_text/x-csrc'] = {'reg':[/^%%microblaze/]};\n  Jupyter.notebook.events.one('kernel_ready.Kernel', function(){\n      Jupyter.notebook.get_cells().map(function(cell){\n          if (cell.cell_type == 'code'){ cell.auto_highlight(); } }) ;\n  });\n});\n"
     },
     "metadata": {},
     "output_type": "display_data"
    },
    {
     "name": "stderr",
     "output_type": "stream",
     "text": [
      "/usr/local/lib/python3.6/dist-packages/pynq/pl_server/device.py:594: UserWarning: Users will not get PARAMETERS / REGISTERS information through TCL files. HWH file is recommended.\n",
      "  warnings.warn(message, UserWarning)\n"
     ]
    },
    {
     "name": "stdout",
     "output_type": "stream",
     "text": [
      "Overlay downloaded successfully!\n"
     ]
    }
   ],
   "source": [
    "import time\n",
    "import random\n",
    "from pynq import Overlay\n",
    "import numpy as np\n",
    "from pynq import Xlnk\n",
    "        \n",
    "# 加载Overlay\n",
    "overlay = Overlay(\"saa.bit\")\n",
    "print(\"Overlay downloaded successfully!\")"
   ]
  },
  {
   "cell_type": "markdown",
   "metadata": {},
   "source": [
    "## 2. 定义IP寄存器映射驱动"
   ]
  },
  {
   "cell_type": "code",
   "execution_count": 2,
   "metadata": {},
   "outputs": [],
   "source": [
    "systolic_array_ip = overlay.systolic_array_0\n",
    "xlnk = Xlnk()\n",
    "\n",
    "# 脉动阵列驱动函数\n",
    "def RunSystolic(array, din_a, din_b, bias, out):\n",
    "    array.write(0x10, din_a.shape[0])\n",
    "    array.write(0x18, din_a.shape[1])\n",
    "    array.write(0x20, din_b.shape[1])\n",
    "    array.write(0x28, din_a.physical_address)\n",
    "    array.write(0x30, din_b.physical_address)\n",
    "    array.write(0x38, bias.physical_address)\n",
    "    array.write(0x40, out.physical_address)\n",
    "    array.write(0, (array.read(0) & 0x80) | 0x01)\n",
    "    tp = array.read(0)\n",
    "    while not ((tp >> 1) & 0x1):\n",
    "        tp = array.read(0)\n",
    "\n",
    "# 脉动阵列驱动函数\n",
    "\n"
   ]
  },
  {
   "cell_type": "markdown",
   "metadata": {},
   "source": [
    "## 3.连续缓存申请"
   ]
  },
  {
   "cell_type": "code",
   "execution_count": null,
   "metadata": {},
   "outputs": [],
   "source": []
  },
  {
   "cell_type": "markdown",
   "metadata": {},
   "source": [
    "## 4.测试数据生成"
   ]
  },
  {
   "cell_type": "code",
   "execution_count": null,
   "metadata": {},
   "outputs": [],
   "source": []
  },
  {
   "cell_type": "markdown",
   "metadata": {},
   "source": [
    "## 3. 生成测试数据"
   ]
  },
  {
   "cell_type": "code",
   "execution_count": 3,
   "metadata": {},
   "outputs": [
    {
     "name": "stdout",
     "output_type": "stream",
     "text": [
      "ready for test\n"
     ]
    }
   ],
   "source": [
    "row = 128\n",
    "col = 16\n",
    "col1 = 200\n",
    "\n",
    "ref = np.zeros((row, col1), dtype = np.float32)\n",
    "\n",
    "# 在PS端的DRAM中为IP核的输入输出数据分配存储空间\n",
    "buf_a = xlnk.cma_array(shape = (row, col), cacheable = 0, dtype = np.float32)\n",
    "buf_b = xlnk.cma_array(shape = (col, col1), cacheable = 0, dtype = np.float32)\n",
    "buf_c = xlnk.cma_array(shape = (row, col1), cacheable = 0, dtype = np.float32)\n",
    "bias  = xlnk.cma_array(shape = (row), cacheable = 0, dtype = np.float32)\n",
    "\n",
    "# 随机生成测试数据\n",
    "for r in range(row):\n",
    "    for c in range(col):\n",
    "        buf_a[r][c] = random.uniform(-20, 20)\n",
    "    \n",
    "    bias[r] = 0.0\n",
    "        \n",
    "for r in range(col):\n",
    "    for c in range(col1):\n",
    "        buf_b[r][c] = random.uniform(-5, 5)\n",
    "\n",
    "print(\"ready for test\")"
   ]
  },
  {
   "cell_type": "markdown",
   "metadata": {},
   "source": [
    "## 4. 运行测试\n",
    "### 4.1 软件矩阵乘法"
   ]
  },
  {
   "cell_type": "code",
   "execution_count": 4,
   "metadata": {},
   "outputs": [
    {
     "name": "stdout",
     "output_type": "stream",
     "text": [
      "pure software: 117.487336s\n"
     ]
    }
   ],
   "source": [
    "pt0 = time.clock()\n",
    "\n",
    "for r in range(row):\n",
    "    for c1 in range(col1):\n",
    "        tmp = 0.0\n",
    "        for c in range(col):\n",
    "            tmp += buf_a[r][c] * buf_b[c][c1]\n",
    "        ref[r][c1] = tmp\n",
    "\n",
    "pt1 = time.clock()\n",
    "time_sw = pt1 - pt0\n",
    "\n",
    "print(\"pure software: %fs\" % time_sw)"
   ]
  },
  {
   "cell_type": "markdown",
   "metadata": {},
   "source": [
    "### 4.2 硬件矩阵乘法"
   ]
  },
  {
   "cell_type": "code",
   "execution_count": 5,
   "metadata": {},
   "outputs": [
    {
     "name": "stdout",
     "output_type": "stream",
     "text": [
      "hardware-accelerated: 0.491987s\n",
      "speedup: 238.80\n"
     ]
    }
   ],
   "source": [
    "pt0 = time.clock()\n",
    "\n",
    "RunSystolic(systolic_array_ip, buf_a, buf_b, bias, buf_c)\n",
    "\n",
    "pt1 = time.clock()\n",
    "time_hw = pt1 - pt0\n",
    "\n",
    "print(\"hardware-accelerated: %fs\" % time_hw)\n",
    "print(\"speedup: %.2f\" % (time_sw/time_hw))"
   ]
  },
  {
   "cell_type": "markdown",
   "metadata": {},
   "source": [
    "### 4.3 校验结果，计算加速比"
   ]
  },
  {
   "cell_type": "code",
   "execution_count": 6,
   "metadata": {},
   "outputs": [
    {
     "name": "stdout",
     "output_type": "stream",
     "text": [
      "Test Passed!\n",
      "\n",
      "reference result: \n",
      "[[-157.63024902 -204.63713074  -12.40508175 ..., -128.27319336\n",
      "   249.55308533 -206.39657593]\n",
      " [ 182.0716095   -82.07845306 -174.98095703 ..., -134.14312744\n",
      "    72.68138885 -209.85731506]\n",
      " [  73.51898193 -231.73474121 -141.91290283 ...,   95.98344421\n",
      "   105.55813599  -79.91520691]\n",
      " ..., \n",
      " [  63.57735062   22.40550995 -137.68212891 ...,  106.6142807    18.72444916\n",
      "    18.9588356 ]\n",
      " [  18.03356743   15.57955837   84.51091766 ...,   -0.42201138\n",
      "    78.21536255    3.26641178]\n",
      " [-131.02407837  145.26586914  218.48310852 ...,  -68.29304504 -236.0149231\n",
      "    46.97134018]]\n",
      "\n",
      "array output:\n",
      "[[-157.63024902 -204.63711548  -12.40507889 ..., -128.27319336\n",
      "   249.55307007 -206.39657593]\n",
      " [ 182.0716095   -82.07844543 -174.98097229 ..., -134.14312744\n",
      "    72.68139648 -209.85728455]\n",
      " [  73.51898193 -231.73477173 -141.91290283 ...,   95.98344421\n",
      "   105.55813599  -79.91521454]\n",
      " ..., \n",
      " [  63.57734299   22.40550232 -137.68212891 ...,  106.6142807    18.72445297\n",
      "    18.95882797]\n",
      " [  18.03357315   15.57956696   84.51092529 ...,   -0.42200851\n",
      "    78.21537018    3.26640701]\n",
      " [-131.02404785  145.26586914  218.48312378 ...,  -68.29304504 -236.0149231\n",
      "    46.97133255]]\n"
     ]
    }
   ],
   "source": [
    "def relative_err(ref, val):\n",
    "    err = val - ref if val > ref else ref - val\n",
    "    return err/ref if ref != 0 else err\n",
    "\n",
    "flag = True\n",
    "\n",
    "for r in range(row):\n",
    "    if flag is False:\n",
    "        break\n",
    "    for c in range(col1):\n",
    "        if relative_err(ref[r][c], buf_c[r][c]) > 0.01:\n",
    "            print(\"Test failed at (%d, %d)\" % (r, c))\n",
    "            flag = False\n",
    "            break\n",
    "\n",
    "if flag:\n",
    "    print(\"Test Passed!\")\n",
    "    \n",
    "print(\"\\nreference result: \")\n",
    "print(ref)\n",
    "print(\"\\narray output:\")\n",
    "print(buf_c)"
   ]
  },
  {
   "cell_type": "code",
   "execution_count": null,
   "metadata": {},
   "outputs": [],
   "source": []
  }
 ],
 "metadata": {
  "kernelspec": {
   "display_name": "Python 3",
   "language": "python",
   "name": "python3"
  },
  "language_info": {
   "codemirror_mode": {
    "name": "ipython",
    "version": 3
   },
   "file_extension": ".py",
   "mimetype": "text/x-python",
   "name": "python",
   "nbconvert_exporter": "python",
   "pygments_lexer": "ipython3",
   "version": "3.7.3"
  }
 },
 "nbformat": 4,
 "nbformat_minor": 4
}
