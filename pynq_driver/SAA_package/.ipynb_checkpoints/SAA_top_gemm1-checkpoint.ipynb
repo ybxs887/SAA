{
 "cells": [
  {
   "cell_type": "markdown",
   "metadata": {},
   "source": [
    "# SAA_top测试\n",
    "## 1. 加载Overlay"
   ]
  },
  {
   "cell_type": "code",
   "execution_count": 15,
   "metadata": {},
   "outputs": [
    {
     "name": "stdout",
     "output_type": "stream",
     "text": [
      "saa_top Overlay downloaded successfully!\n"
     ]
    }
   ],
   "source": [
    "import numpy as np\n",
    "from pynq import allocate\n",
    "import random\n",
    "import time\n",
    "import saa_top_driver\n",
    "from saa_insn_driver import * \n",
    "# 创建 SaaDriver 实例\n",
    "saa_driver = saa_top_driver.SaaDriver(\"saa_top.bit\")"
   ]
  },
  {
   "cell_type": "markdown",
   "metadata": {},
   "source": [
    "## 2. 数据类型定义"
   ]
  },
  {
   "cell_type": "code",
   "execution_count": 16,
   "metadata": {},
   "outputs": [],
   "source": [
    "# 定义指令的数据类型\n",
    "Instruct_DataType = np.dtype([('low', np.uint64), ('high', np.uint64)]) # 定义一个由两个64位整数组成的128位数据类型\n",
    "Input_DataType =  np.int8\n",
    "Weight_DataType = np.int8\n",
    "Output_DataType = np.int32"
   ]
  },
  {
   "cell_type": "markdown",
   "metadata": {},
   "source": [
    "## 3.连续缓存申请"
   ]
  },
  {
   "cell_type": "code",
   "execution_count": 17,
   "metadata": {},
   "outputs": [],
   "source": [
    "# 定义指令缓冲区大小\n",
    "insn_count = 4000 # 最多能容纳2000条指令\n",
    "\n",
    "# 定义buffer大小,这是执行一个批量的大小\n",
    "row = 4\n",
    "col = 4\n",
    "col1 = 4\n",
    "\n",
    "# 定义PS端缓冲区,不使用cache，数据类型注意\n",
    "instruct_buffer = allocate(shape = (insn_count), cacheable = 0, dtype = Instruct_DataType)\n",
    "input_buffer = allocate(shape = (row, col), cacheable = 0, dtype = Input_DataType)\n",
    "weight_buffer = allocate(shape = (col, col1), cacheable = 0, dtype = Weight_DataType)\n",
    "output_buffer  = allocate(shape = (row,col1), cacheable = 0, dtype = Input_DataType)"
   ]
  },
  {
   "cell_type": "markdown",
   "metadata": {},
   "source": [
    "## 4.测试数据生成"
   ]
  },
  {
   "cell_type": "code",
   "execution_count": 18,
   "metadata": {},
   "outputs": [
    {
     "name": "stdout",
     "output_type": "stream",
     "text": [
      "Randomly generated input buffer:\n",
      "[[40 92 29 15]\n",
      " [10 97 47 25]\n",
      " [35  6 72 22]\n",
      " [46 54 12 43]]\n",
      "\n",
      "Randomly generated weight buffer:\n",
      "[[82 73 75  4]\n",
      " [24 57 29  7]\n",
      " [45 14 82 34]\n",
      " [82 16 84 49]]\n",
      "pure software: 0.000515s\n",
      "Matrix multiplication result:\n",
      "[[ 8023  8810  9306  2525]\n",
      " [ 7313  7317  9517  3542]\n",
      " [ 8058  4257 10551  3708]\n",
      " [ 9134  7292  9612  3077]]\n"
     ]
    }
   ],
   "source": [
    "# 随机生成矩阵并存储到相应的数据缓冲区中\n",
    "np.random.seed(2)  # 设置随机种子以确保生成的随机数相同\n",
    "input_buffer[:] = np.random.randint(0, 100, size=(row, col), dtype=np.int8)\n",
    "weight_buffer[:] = np.random.randint(0, 100, size=(col, col1), dtype=np.int8)\n",
    "\n",
    "# 将输入矩阵转换为np.int32类型，以避免溢出\n",
    "input_buffer_int32 = input_buffer.astype(np.int32)\n",
    "weight_buffer_int32 = weight_buffer.astype(np.int32)\n",
    "\n",
    "# 打印生成的随机矩阵\n",
    "print(\"Randomly generated input buffer:\")\n",
    "print(input_buffer)\n",
    "\n",
    "print(\"\\nRandomly generated weight buffer:\")\n",
    "print(weight_buffer)\n",
    "\n",
    "# 定义input_buffer和weight_buffer的矩阵乘法结果的结果矩阵\n",
    "pt0 = time.perf_counter()\n",
    "result_matrix = np.dot(input_buffer_int32, weight_buffer_int32)\n",
    "pt1 = time.perf_counter()\n",
    "time_sw = pt1 - pt0\n",
    "print(\"pure software: %fs\" % time_sw)\n",
    "\n",
    "\n",
    "# 打印矩阵乘法结果\n",
    "print(\"Matrix multiplication result:\")\n",
    "print(result_matrix)\n"
   ]
  },
  {
   "cell_type": "markdown",
   "metadata": {},
   "source": [
    "## 5.指令生成"
   ]
  },
  {
   "cell_type": "code",
   "execution_count": 21,
   "metadata": {},
   "outputs": [
    {
     "name": "stdout",
     "output_type": "stream",
     "text": [
      "b'\\x03\\x00\\x00\\x00\\x00\\x00\\x00\\x00\\x00\\x00\\x00\\x00\\x00\\x00\\x00\\x00'\n",
      "(8, 17180131332)\n",
      "00000000000000000000000000000100000000000000010000000000000001000000000000000000000000000000000000000000000000000000000000001000\n",
      "(0, 17180131332)\n",
      "00000000000000000000000000000100000000000000010000000000000001000000000000000000000000000000000000000000000000000000000000000000\n",
      "(1, 0)\n",
      "00000000000000000000000000000000000000000000000000000000000000000000000000000000000000000000000000000000000000000000000000000001\n",
      "(9, 0)\n",
      "00000000000000000000000000000000000000000000000000000000000000000000000000000000000000000000000000000000000000000000000000001001\n",
      "(10, 17180655617)\n",
      "00000000000000000000000000000100000000000000110000000000000000010000000000000000000000000000000000000000000000000000000000001010\n",
      "(3, 0)\n",
      "00000000000000000000000000000000000000000000000000000000000000000000000000000000000000000000000000000000000000000000000000000011\n"
     ]
    }
   ],
   "source": [
    "# 定义本次执行的指令数量\n",
    "now_insn_count = 6\n",
    "instructions = [] #临时存储指令\n",
    "# 加载矩阵A\n",
    "load_A_insn = create_load_instruction(\n",
    "    opcode=OPCODE_LOAD,\n",
    "    buffer_id=INPUT_BUFFER_ID,  # 假设的buffer ID\n",
    "    dram_addr=0,  # 假设的DRAM地址\n",
    "    buffer_addr=0,  # 假设的buffer地址\n",
    "    y_size=MATRIX_WIDTH,  # 假设的传输尺寸y\n",
    "    x_size=MATRIX_WIDTH,  # 假设的传输尺寸x\n",
    "    x_stride=MATRIX_WIDTH  # 假设的传输步进\n",
    ")\n",
    "instructions.append(load_A_insn)\n",
    "# 加载矩阵B\n",
    "load_B_insn = create_load_instruction(\n",
    "    opcode=OPCODE_LOAD,\n",
    "    buffer_id=WEIGHT_BUFFER_ID,  # 假设的buffer ID\n",
    "    dram_addr=0,  # 假设的DRAM地址\n",
    "    buffer_addr=0,  # 假设的buffer地址\n",
    "    y_size=MATRIX_WIDTH,  # 假设的传输尺寸y\n",
    "    x_size=MATRIX_WIDTH,  # 假设的传输尺寸x\n",
    "    x_stride=MATRIX_WIDTH  # 假设的传输步进\n",
    ")\n",
    "instructions.append(load_B_insn)\n",
    "# 计算A*B = C\n",
    "# 预加载权重\n",
    "compute_preload_insn = create_compute_instruction(\n",
    "    OPCODE_COMPUTE,  # 操作码\n",
    "    WEIGHT_PRELOAD,  # 计算类型\n",
    "    0,  # 权重地址\n",
    "    0,  # 输入地址\n",
    "    0,  # 输出地址\n",
    "    0,  # 权重切换\n",
    "    0,  # 计算切换\n",
    "    0  # 不累加\n",
    ")\n",
    "instructions.append(compute_preload_insn)\n",
    "# 计算\n",
    "compute_insn = create_compute_instruction(\n",
    "    OPCODE_COMPUTE,  # 操作码\n",
    "    COMPUTE,  # 计算类型\n",
    "    0,  # 权重地址\n",
    "    0,  # 输入地址\n",
    "    0,  # 输出地址\n",
    "    0,  # 权重切换\n",
    "    0,  # 计算切换\n",
    "    0  # 不累加\n",
    ")\n",
    "instructions.append(compute_insn)\n",
    "# 缓存矩阵C\n",
    "store_C_insn = create_load_instruction(\n",
    "    opcode=OPCODE_STORE,\n",
    "    buffer_id=INPUT_BUFFER_ID,  # 假设的buffer ID\n",
    "    dram_addr=0,#设的DRAM地址\n",
    "    buffer_addr=0,  # 假设的buffer地址\n",
    "    y_size=1,#的传输尺寸y\n",
    "    x_size=2*MATRIX_WIDTH,#设的传输尺寸x,\n",
    "    x_stride=MATRIX_WIDTH  # 假设的传输步进\n",
    ")\n",
    "instructions.append(store_C_insn)\n",
    "# 计算完成指令，使得软件运算结束\n",
    "done_insn = create_load_instruction(\n",
    "    opcode=OPCODE_DONE,\n",
    "    buffer_id=0,  # 假设的buffer ID\n",
    "    dram_addr=0,  # 假设的DRAM地址\n",
    "    buffer_addr=0,  # 假设的buffer地址\n",
    "    y_size=0,# 假设的传输尺寸y\n",
    "    x_size=0,  # 假设的传输尺寸x\n",
    "    x_stride=0  # 假设的传输步进\n",
    ")\n",
    "instructions.append(done_insn)\n",
    "print(done_insn)\n",
    "\n",
    "# 将生成的指令批量存入缓冲区，然后启动saa让其读取指令\n",
    "for i, instruction in enumerate(instructions):\n",
    "    instruct_buffer[i] = np.frombuffer(instruction, dtype=Instruct_DataType)\n",
    "    print(instruct_buffer[i])\n",
    "    print_binary(instruct_buffer[i]) # 输出指令的二进制表示\n"
   ]
  },
  {
   "cell_type": "markdown",
   "metadata": {},
   "source": [
    "## 6.运行saa进行测试"
   ]
  },
  {
   "cell_type": "code",
   "execution_count": 22,
   "metadata": {},
   "outputs": [
    {
     "name": "stdout",
     "output_type": "stream",
     "text": [
      "1\n",
      "done: 0\n",
      "pure software: 0.002208s\n",
      "1\n",
      "907804672\n",
      "1999147008\n",
      "2000134144\n",
      "1999179776\n",
      "[(8, 17180131332) (0, 17180131332) (1,           0) ... (0,           0)\n",
      " (0,           0) (0,           0)]\n",
      "[[40 92 29 15]\n",
      " [10 97 47 25]\n",
      " [35  6 72 22]\n",
      " [46 54 12 43]]\n",
      "[[82 73 75  4]\n",
      " [24 57 29  7]\n",
      " [45 14 82 34]\n",
      " [82 16 84 49]]\n",
      "[[40 92 29 15]\n",
      " [10 97 47 25]\n",
      " [35  6 72 22]\n",
      " [46 54 12 43]]\n"
     ]
    }
   ],
   "source": [
    "# 测试写入done信号并且读取done信号\n",
    "done_flag = saa_driver.read_ip_register(0x48) # 从computeIP的done寄存器读取本次指令是否执行完毕\n",
    "print(done_flag)\n",
    "\n",
    "# 测试运行saa硬件\n",
    "wait_cycles = 100000 # 定义一次最多等待周期为1000万周期\n",
    "pt0 = time.perf_counter()\n",
    "saa_driver.run_saa(now_insn_count,\n",
    "       instruct_buffer.physical_address,\n",
    "       input_buffer.physical_address,\n",
    "       weight_buffer.physical_address,\n",
    "       output_buffer.physical_address,\n",
    "       wait_cycles)\n",
    "pt1 = time.perf_counter()\n",
    "time_sw = pt1 - pt0\n",
    "print(\"pure software: %fs\" % time_sw)\n",
    "\n",
    "# 打印\n",
    "done_flag = saa_driver.read_ip_register(0x48) # 从computeIP的done寄存器读取本次指令是否执行完毕\n",
    "print(done_flag)\n",
    "\n",
    "print(instruct_buffer.physical_address)\n",
    "print(input_buffer.physical_address)\n",
    "print(weight_buffer.physical_address)\n",
    "print(output_buffer.physical_address)\n",
    "print(instruct_buffer)\n",
    "print(input_buffer)\n",
    "print(weight_buffer)\n",
    "print(output_buffer)\n"
   ]
  },
  {
   "cell_type": "markdown",
   "metadata": {},
   "source": [
    "## 7. 回收缓冲区"
   ]
  },
  {
   "cell_type": "code",
   "execution_count": 30,
   "metadata": {},
   "outputs": [],
   "source": [
    "# 查看完成后清空缓冲区\n",
    "del output_buffer\n",
    "del instruct_buffer"
   ]
  },
  {
   "cell_type": "code",
   "execution_count": null,
   "metadata": {},
   "outputs": [],
   "source": []
  },
  {
   "cell_type": "code",
   "execution_count": null,
   "metadata": {},
   "outputs": [],
   "source": []
  }
 ],
 "metadata": {
  "kernelspec": {
   "display_name": "Python 3 (ipykernel)",
   "language": "python",
   "name": "python3"
  },
  "language_info": {
   "codemirror_mode": {
    "name": "ipython",
    "version": 3
   },
   "file_extension": ".py",
   "mimetype": "text/x-python",
   "name": "python",
   "nbconvert_exporter": "python",
   "pygments_lexer": "ipython3",
   "version": "3.10.12"
  }
 },
 "nbformat": 4,
 "nbformat_minor": 4
}
